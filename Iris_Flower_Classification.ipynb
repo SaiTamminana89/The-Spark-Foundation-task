{
  "nbformat": 4,
  "nbformat_minor": 0,
  "metadata": {
    "colab": {
      "private_outputs": true,
      "provenance": []
    },
    "kernelspec": {
      "name": "python3",
      "display_name": "Python 3"
    },
    "language_info": {
      "name": "python"
    }
  },
  "cells": [
    {
      "cell_type": "markdown",
      "source": [
        "\n",
        "Iris flower has three species; setosa, versicolor, and virginica, which differs according to their\n",
        "measurements. Now assume that you have the measurements of the iris flowers according to\n",
        "their species, and here your task is to train a machine learning model that can learn from the\n",
        "measurements of the iris species and classify them"
      ],
      "metadata": {
        "id": "3PmYSqz0zuhS"
      }
    },
    {
      "cell_type": "code",
      "source": [
        "# importing necessary packages \n",
        "import pandas as pd\n",
        "import numpy as np"
      ],
      "metadata": {
        "id": "_PjbprYF4lYQ"
      },
      "execution_count": null,
      "outputs": []
    },
    {
      "cell_type": "code",
      "source": [
        "# Reading the dataset from the Github\n",
        "df = pd.read_csv('https://raw.githubusercontent.com/SaiTamminana89/csv/main/Iris.csv')"
      ],
      "metadata": {
        "id": "-2XI57o67yQv"
      },
      "execution_count": null,
      "outputs": []
    },
    {
      "cell_type": "code",
      "source": [
        "df.head()\n",
        "# this head function return up to 5 entries"
      ],
      "metadata": {
        "id": "npaIe-wS76kt"
      },
      "execution_count": null,
      "outputs": []
    },
    {
      "cell_type": "code",
      "source": [
        "df.shape\n",
        "# it gives the shape of the dataframe"
      ],
      "metadata": {
        "id": "JI-dyp-D88aR"
      },
      "execution_count": null,
      "outputs": []
    },
    {
      "cell_type": "code",
      "execution_count": null,
      "metadata": {
        "id": "4r0CQFJIzZP0"
      },
      "outputs": [],
      "source": [
        "# here in the above dataframe consists of 150 rows and 6 columns"
      ]
    },
    {
      "cell_type": "code",
      "source": [
        "# Describing the columns\n",
        "# Id \n",
        "# Sepal length of the flower in cm\n",
        "# Sepal Width of the flower in cm\n",
        "# PetalLengthCm\tof the flower in cm\n",
        "# PetalWidthCm of the flower in cm\t\n",
        "# Species of the flower"
      ],
      "metadata": {
        "id": "f-1uVPgT9GfI"
      },
      "execution_count": null,
      "outputs": []
    },
    {
      "cell_type": "markdown",
      "source": [
        "#Feature Engineering"
      ],
      "metadata": {
        "id": "JyEIVuWDDEZK"
      }
    },
    {
      "cell_type": "markdown",
      "source": [
        "##### The main aim of data preprocessing is to convert the raw data into normal data"
      ],
      "metadata": {
        "id": "ouqi2ElxDQcI"
      }
    },
    {
      "cell_type": "markdown",
      "source": [
        "Data Preprocessing"
      ],
      "metadata": {
        "id": "qXx1p7TRDBWI"
      }
    },
    {
      "cell_type": "markdown",
      "source": [
        "###### Data Preprocessing involves handling 1)missing values 2)categorical data 3)outliers 4)Incorrect data 5)Redudandant data "
      ],
      "metadata": {
        "id": "ZqOjIyvRDJD6"
      }
    },
    {
      "cell_type": "code",
      "source": [
        "# Finding null values\n",
        "df.isnull().sum()\n",
        "# there is no null values in the above dataset"
      ],
      "metadata": {
        "id": "2jOuJp6o9LIq"
      },
      "execution_count": null,
      "outputs": []
    },
    {
      "cell_type": "code",
      "source": [
        "# checking whether the dataset contains null values\n",
        "df.duplicated().sum()# this gives the number of duplicates in the "
      ],
      "metadata": {
        "id": "gatl7LOVE4Ac"
      },
      "execution_count": null,
      "outputs": []
    },
    {
      "cell_type": "code",
      "source": [
        "# By looking at the datset we can easily identified that there is no Incorrect data"
      ],
      "metadata": {
        "id": "_Db0yL_SFfP5"
      },
      "execution_count": null,
      "outputs": []
    },
    {
      "cell_type": "code",
      "source": [
        "# There is no categorical values in the input columns"
      ],
      "metadata": {
        "id": "burNz1uwHsE3"
      },
      "execution_count": null,
      "outputs": []
    },
    {
      "cell_type": "code",
      "source": [
        "# There is no need of scaling here our model works very well with the range of this input columns"
      ],
      "metadata": {
        "id": "LuMAKpdcH3Cb"
      },
      "execution_count": null,
      "outputs": []
    },
    {
      "cell_type": "code",
      "source": [
        "df"
      ],
      "metadata": {
        "id": "Z-gwM5_KH_eA"
      },
      "execution_count": null,
      "outputs": []
    },
    {
      "cell_type": "markdown",
      "source": [
        "Feature Selection"
      ],
      "metadata": {
        "id": "pQUZRnfvIBID"
      }
    },
    {
      "cell_type": "code",
      "source": [
        "x = df.iloc[:,[1,2,3,4]]\n",
        "y = df.iloc[:,[5]]"
      ],
      "metadata": {
        "id": "c9ME6TLFIEcX"
      },
      "execution_count": null,
      "outputs": []
    },
    {
      "cell_type": "code",
      "source": [
        "x"
      ],
      "metadata": {
        "id": "8XxxYylvIOhW"
      },
      "execution_count": null,
      "outputs": []
    },
    {
      "cell_type": "code",
      "source": [
        "y"
      ],
      "metadata": {
        "id": "B06kQUqlIQES"
      },
      "execution_count": null,
      "outputs": []
    },
    {
      "cell_type": "code",
      "source": [
        "x.shape\n",
        "# gives the shape of the input column"
      ],
      "metadata": {
        "id": "jTQUPi0dIRgl"
      },
      "execution_count": null,
      "outputs": []
    },
    {
      "cell_type": "code",
      "source": [
        "y.shape\n",
        "# gives the shape of the output column"
      ],
      "metadata": {
        "id": "Fw_E-jCwIszz"
      },
      "execution_count": null,
      "outputs": []
    },
    {
      "cell_type": "code",
      "source": [
        "# splitting the x and y columns into train and test data\n",
        "from sklearn.model_selection import train_test_split\n",
        "x_train,x_test,y_train,y_test = train_test_split(x,y)"
      ],
      "metadata": {
        "id": "ai0VYxMeJEA6"
      },
      "execution_count": null,
      "outputs": []
    },
    {
      "cell_type": "code",
      "source": [
        "x_train"
      ],
      "metadata": {
        "id": "0USs5tq7KCWo"
      },
      "execution_count": null,
      "outputs": []
    },
    {
      "cell_type": "code",
      "source": [
        "y_train"
      ],
      "metadata": {
        "id": "qhxBlxXaKQLf"
      },
      "execution_count": null,
      "outputs": []
    },
    {
      "cell_type": "code",
      "source": [
        "x_test"
      ],
      "metadata": {
        "id": "8f4KCM-WKTHx"
      },
      "execution_count": null,
      "outputs": []
    },
    {
      "cell_type": "code",
      "source": [
        "y_test"
      ],
      "metadata": {
        "id": "xXT71lDkKVWX"
      },
      "execution_count": null,
      "outputs": []
    },
    {
      "cell_type": "code",
      "source": [],
      "metadata": {
        "id": "ZYWqt-GuMqhd"
      },
      "execution_count": null,
      "outputs": []
    },
    {
      "cell_type": "markdown",
      "source": [
        "Creating a Model with LogisticRegression"
      ],
      "metadata": {
        "id": "Mg07wei6I3JE"
      }
    },
    {
      "cell_type": "code",
      "source": [
        "from sklearn.linear_model import LogisticRegression"
      ],
      "metadata": {
        "id": "6RTbaPARI5LD"
      },
      "execution_count": null,
      "outputs": []
    },
    {
      "cell_type": "code",
      "source": [
        "model = LogisticRegression()\n",
        "model"
      ],
      "metadata": {
        "id": "4OyWnajoKmft"
      },
      "execution_count": null,
      "outputs": []
    },
    {
      "cell_type": "code",
      "source": [
        "mymodel = model.fit(x_train,y_train)"
      ],
      "metadata": {
        "id": "sBb96PPdKniD"
      },
      "execution_count": null,
      "outputs": []
    },
    {
      "cell_type": "code",
      "source": [
        "Pred_y = mymodel.predict(x_test)"
      ],
      "metadata": {
        "id": "2le4aP7WK1_0"
      },
      "execution_count": null,
      "outputs": []
    },
    {
      "cell_type": "code",
      "source": [
        "Pred_y"
      ],
      "metadata": {
        "id": "YQaiyXn8K7nx"
      },
      "execution_count": null,
      "outputs": []
    },
    {
      "cell_type": "code",
      "source": [
        "# Checking the accuracy of the model"
      ],
      "metadata": {
        "id": "mHoHcVNVLG_7"
      },
      "execution_count": null,
      "outputs": []
    },
    {
      "cell_type": "code",
      "source": [
        "Pred_y"
      ],
      "metadata": {
        "id": "7kmK7dUnLZAU"
      },
      "execution_count": null,
      "outputs": []
    },
    {
      "cell_type": "code",
      "source": [
        "y_test = y_test.values\n",
        "# this gives the array of the values"
      ],
      "metadata": {
        "id": "LtLH4ynwLhuQ"
      },
      "execution_count": null,
      "outputs": []
    },
    {
      "cell_type": "code",
      "source": [
        "from sklearn.metrics import accuracy_score\n",
        "accuracy_score(y_test,Pred_y)"
      ],
      "metadata": {
        "id": "qdDNAhMNLJj3"
      },
      "execution_count": null,
      "outputs": []
    },
    {
      "cell_type": "code",
      "source": [
        "# Accuracy of our model is 0.9210526315789473"
      ],
      "metadata": {
        "id": "YQyrE3mpNyES"
      },
      "execution_count": null,
      "outputs": []
    }
  ]
}